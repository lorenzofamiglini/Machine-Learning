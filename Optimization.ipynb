{
 "cells": [
  {
   "cell_type": "code",
   "execution_count": 49,
   "metadata": {},
   "outputs": [],
   "source": [
    "import matplotlib.pyplot as plt\n",
    "import numpy as np\n",
    "import pandas as pd\n",
    "from sklearn.model_selection import train_test_split\n",
    "from sklearn.linear_model import LogisticRegression\n",
    "from sklearn.datasets import make_classification\n",
    "from sklearn.metrics import log_loss"
   ]
  },
  {
   "cell_type": "markdown",
   "metadata": {},
   "source": [
    "We can create a dataset ad-hoc for our classification problem:"
   ]
  },
  {
   "cell_type": "code",
   "execution_count": 5,
   "metadata": {},
   "outputs": [],
   "source": [
    "X, Y = make_classification(n_samples=1250, n_features=4, n_informative=2, random_state=0) \n",
    "#n_informative means how features are significant for the model"
   ]
  },
  {
   "cell_type": "code",
   "execution_count": 6,
   "metadata": {},
   "outputs": [],
   "source": [
    "X_train, X_test, Y_train, Y_test = train_test_split(X,Y, test_size=0.2, random_state=0)"
   ]
  },
  {
   "cell_type": "markdown",
   "metadata": {},
   "source": [
    "# Gradient Descent"
   ]
  },
  {
   "cell_type": "code",
   "execution_count": 7,
   "metadata": {},
   "outputs": [],
   "source": [
    "from sklearn.linear_model import SGDClassifier"
   ]
  },
  {
   "cell_type": "code",
   "execution_count": 8,
   "metadata": {},
   "outputs": [],
   "source": [
    "sgd = SGDClassifier(loss=\"log\", shuffle = =True) \n",
    "#we are going to choose a logistic regression\n",
    "#we need to choose the loss function"
   ]
  },
  {
   "cell_type": "code",
   "execution_count": 19,
   "metadata": {},
   "outputs": [
    {
     "name": "stderr",
     "output_type": "stream",
     "text": [
      "/Library/Frameworks/Python.framework/Versions/3.7/lib/python3.7/site-packages/sklearn/linear_model/stochastic_gradient.py:166: FutureWarning: max_iter and tol parameters have been added in SGDClassifier in 0.19. If both are left unset, they default to max_iter=5 and tol=None. If tol is not None, max_iter defaults to max_iter=1000. From 0.21, default max_iter will be 1000, and default tol will be 1e-3.\n",
      "  FutureWarning)\n"
     ]
    },
    {
     "data": {
      "text/plain": [
       "SGDClassifier(alpha=0.0001, average=False, class_weight=None,\n",
       "       early_stopping=False, epsilon=0.1, eta0=0.0, fit_intercept=True,\n",
       "       l1_ratio=0.15, learning_rate='optimal', loss='log', max_iter=None,\n",
       "       n_iter=None, n_iter_no_change=5, n_jobs=None, penalty='l2',\n",
       "       power_t=0.5, random_state=None, shuffle=True, tol=None,\n",
       "       validation_fraction=0.1, verbose=0, warm_start=False)"
      ]
     },
     "execution_count": 19,
     "metadata": {},
     "output_type": "execute_result"
    }
   ],
   "source": [
    "sgd.fit(X_train, Y_train)"
   ]
  },
  {
   "cell_type": "code",
   "execution_count": 22,
   "metadata": {},
   "outputs": [
    {
     "name": "stdout",
     "output_type": "stream",
     "text": [
      "LOSS: 0.275171\n",
      "CPU times: user 1.96 ms, sys: 935 µs, total: 2.9 ms\n",
      "Wall time: 2.05 ms\n"
     ]
    }
   ],
   "source": [
    "%%time\n",
    "print(\"LOSS: %4f\"%(log_loss(Y_test, sgd.predict_proba(X_test))))"
   ]
  },
  {
   "cell_type": "code",
   "execution_count": 21,
   "metadata": {},
   "outputs": [],
   "source": [
    "# Partial fit method: for mini batch gradient descent"
   ]
  },
  {
   "cell_type": "code",
   "execution_count": 30,
   "metadata": {},
   "outputs": [],
   "source": [
    "def minibatchGD(train_set, test_set, n_batches, epochs):\n",
    "    from sklearn.utils import shuffle\n",
    "    X_train, Y_train = train_set\n",
    "    X_test, Y_test = test_set\n",
    "    \n",
    "    batch_size = X_train.shape[0]/n_batches\n",
    "    sgd = SGDClassifier(loss = \"log\")\n",
    "    sgd_loss = []\n",
    "    \n",
    "    for epoch in range(epochs):\n",
    "        X_shuffled, Y_shuffled = shuffle(X_train, Y_train)\n",
    "        for batch in range(n_batches):\n",
    "            batch_start = int(batch*batch_size)\n",
    "            batch_end = int((batch+1)*batch_size)\n",
    "                \n",
    "            X_batch = X_shuffled[batch_start:batch_end,:]\n",
    "            Y_batch = Y_shuffled[batch_start:batch_end]\n",
    "                \n",
    "            sgd.partial_fit(X_batch, Y_batch, classes = np.unique(Y_train))\n",
    "            loss = log_loss(Y_test, sgd.predict_proba(X_test), labels = np.unique(Y_train))\n",
    "            sgd_loss.append(loss)\n",
    "                \n",
    "        print(\"Epoch Loss %d = %.4f\" %(epoch+1,loss))\n",
    "    return(sgd, sgd_loss)"
   ]
  },
  {
   "cell_type": "code",
   "execution_count": 34,
   "metadata": {},
   "outputs": [
    {
     "name": "stdout",
     "output_type": "stream",
     "text": [
      "Epoch Loss 1 = 1.8546\n",
      "Epoch Loss 2 = 0.4466\n",
      "Epoch Loss 3 = 0.3135\n",
      "Epoch Loss 4 = 0.3167\n",
      "Epoch Loss 5 = 0.2541\n",
      "Epoch Loss 6 = 0.2755\n",
      "Epoch Loss 7 = 0.1970\n",
      "Epoch Loss 8 = 0.1531\n",
      "Epoch Loss 9 = 0.1882\n",
      "Epoch Loss 10 = 0.1145\n",
      "Epoch Loss 11 = 0.1354\n",
      "Epoch Loss 12 = 0.1614\n",
      "Epoch Loss 13 = 0.1189\n",
      "Epoch Loss 14 = 0.1308\n",
      "Epoch Loss 15 = 0.1406\n",
      "Epoch Loss 16 = 0.1393\n",
      "Epoch Loss 17 = 0.1640\n",
      "Epoch Loss 18 = 0.1088\n",
      "Epoch Loss 19 = 0.1486\n",
      "Epoch Loss 20 = 0.1200\n",
      "Epoch Loss 21 = 0.1117\n",
      "Epoch Loss 22 = 0.1404\n",
      "Epoch Loss 23 = 0.1117\n",
      "Epoch Loss 24 = 0.1232\n",
      "Epoch Loss 25 = 0.1294\n",
      "Epoch Loss 26 = 0.1112\n",
      "Epoch Loss 27 = 0.1130\n",
      "Epoch Loss 28 = 0.1243\n",
      "Epoch Loss 29 = 0.1166\n",
      "Epoch Loss 30 = 0.1080\n",
      "Epoch Loss 31 = 0.1129\n",
      "Epoch Loss 32 = 0.1119\n",
      "Epoch Loss 33 = 0.1060\n",
      "Epoch Loss 34 = 0.1154\n",
      "Epoch Loss 35 = 0.1085\n",
      "Epoch Loss 36 = 0.1079\n",
      "Epoch Loss 37 = 0.1154\n",
      "Epoch Loss 38 = 0.1259\n",
      "Epoch Loss 39 = 0.1055\n",
      "Epoch Loss 40 = 0.1109\n",
      "Epoch Loss 41 = 0.1061\n",
      "Epoch Loss 42 = 0.1108\n",
      "Epoch Loss 43 = 0.1092\n",
      "Epoch Loss 44 = 0.1053\n",
      "Epoch Loss 45 = 0.1094\n",
      "Epoch Loss 46 = 0.1091\n",
      "Epoch Loss 47 = 0.1100\n",
      "Epoch Loss 48 = 0.1069\n",
      "Epoch Loss 49 = 0.1114\n",
      "Epoch Loss 50 = 0.1167\n",
      "Epoch Loss 51 = 0.1064\n",
      "Epoch Loss 52 = 0.1071\n",
      "Epoch Loss 53 = 0.1094\n",
      "Epoch Loss 54 = 0.1076\n",
      "Epoch Loss 55 = 0.1110\n",
      "Epoch Loss 56 = 0.1059\n",
      "Epoch Loss 57 = 0.1101\n",
      "Epoch Loss 58 = 0.1118\n",
      "Epoch Loss 59 = 0.1076\n",
      "Epoch Loss 60 = 0.1056\n",
      "Epoch Loss 61 = 0.1115\n",
      "Epoch Loss 62 = 0.1115\n",
      "Epoch Loss 63 = 0.1120\n",
      "Epoch Loss 64 = 0.1087\n",
      "Epoch Loss 65 = 0.1075\n",
      "Epoch Loss 66 = 0.1078\n",
      "Epoch Loss 67 = 0.1110\n",
      "Epoch Loss 68 = 0.1204\n",
      "Epoch Loss 69 = 0.1061\n",
      "Epoch Loss 70 = 0.1131\n",
      "Epoch Loss 71 = 0.1066\n",
      "Epoch Loss 72 = 0.1077\n",
      "Epoch Loss 73 = 0.1064\n",
      "Epoch Loss 74 = 0.1079\n",
      "Epoch Loss 75 = 0.1176\n",
      "Epoch Loss 76 = 0.1113\n",
      "Epoch Loss 77 = 0.1088\n",
      "Epoch Loss 78 = 0.1064\n",
      "Epoch Loss 79 = 0.1132\n",
      "Epoch Loss 80 = 0.1231\n",
      "Epoch Loss 81 = 0.1073\n",
      "Epoch Loss 82 = 0.1180\n",
      "Epoch Loss 83 = 0.1097\n",
      "Epoch Loss 84 = 0.1092\n",
      "Epoch Loss 85 = 0.1138\n",
      "Epoch Loss 86 = 0.1072\n",
      "Epoch Loss 87 = 0.1060\n",
      "Epoch Loss 88 = 0.1128\n",
      "Epoch Loss 89 = 0.1065\n",
      "Epoch Loss 90 = 0.1061\n",
      "Epoch Loss 91 = 0.1056\n",
      "Epoch Loss 92 = 0.1063\n",
      "Epoch Loss 93 = 0.1072\n",
      "Epoch Loss 94 = 0.1056\n",
      "Epoch Loss 95 = 0.1112\n",
      "Epoch Loss 96 = 0.1062\n",
      "Epoch Loss 97 = 0.1132\n",
      "Epoch Loss 98 = 0.1078\n",
      "Epoch Loss 99 = 0.1073\n",
      "Epoch Loss 100 = 0.1098\n",
      "Epoch Loss 101 = 0.1108\n",
      "Epoch Loss 102 = 0.1114\n",
      "Epoch Loss 103 = 0.1107\n",
      "Epoch Loss 104 = 0.1111\n",
      "Epoch Loss 105 = 0.1064\n",
      "Epoch Loss 106 = 0.1086\n",
      "Epoch Loss 107 = 0.1074\n",
      "Epoch Loss 108 = 0.1083\n",
      "Epoch Loss 109 = 0.1058\n",
      "Epoch Loss 110 = 0.1089\n",
      "Epoch Loss 111 = 0.1059\n",
      "Epoch Loss 112 = 0.1143\n",
      "Epoch Loss 113 = 0.1073\n",
      "Epoch Loss 114 = 0.1088\n",
      "Epoch Loss 115 = 0.1058\n",
      "Epoch Loss 116 = 0.1080\n",
      "Epoch Loss 117 = 0.1070\n",
      "Epoch Loss 118 = 0.1071\n",
      "Epoch Loss 119 = 0.1058\n",
      "Epoch Loss 120 = 0.1057\n",
      "Epoch Loss 121 = 0.1060\n",
      "Epoch Loss 122 = 0.1077\n",
      "Epoch Loss 123 = 0.1099\n",
      "Epoch Loss 124 = 0.1129\n",
      "Epoch Loss 125 = 0.1059\n",
      "Epoch Loss 126 = 0.1064\n",
      "Epoch Loss 127 = 0.1069\n",
      "Epoch Loss 128 = 0.1077\n",
      "Epoch Loss 129 = 0.1110\n",
      "Epoch Loss 130 = 0.1074\n",
      "Epoch Loss 131 = 0.1106\n",
      "Epoch Loss 132 = 0.1068\n",
      "Epoch Loss 133 = 0.1073\n",
      "Epoch Loss 134 = 0.1062\n",
      "Epoch Loss 135 = 0.1055\n",
      "Epoch Loss 136 = 0.1071\n",
      "Epoch Loss 137 = 0.1054\n",
      "Epoch Loss 138 = 0.1090\n",
      "Epoch Loss 139 = 0.1075\n",
      "Epoch Loss 140 = 0.1066\n",
      "Epoch Loss 141 = 0.1057\n",
      "Epoch Loss 142 = 0.1055\n",
      "Epoch Loss 143 = 0.1083\n",
      "Epoch Loss 144 = 0.1077\n",
      "Epoch Loss 145 = 0.1063\n",
      "Epoch Loss 146 = 0.1068\n",
      "Epoch Loss 147 = 0.1053\n",
      "Epoch Loss 148 = 0.1072\n",
      "Epoch Loss 149 = 0.1054\n",
      "Epoch Loss 150 = 0.1065\n",
      "Epoch Loss 151 = 0.1053\n",
      "Epoch Loss 152 = 0.1086\n",
      "Epoch Loss 153 = 0.1086\n",
      "Epoch Loss 154 = 0.1096\n",
      "Epoch Loss 155 = 0.1068\n",
      "Epoch Loss 156 = 0.1061\n",
      "Epoch Loss 157 = 0.1058\n",
      "Epoch Loss 158 = 0.1071\n",
      "Epoch Loss 159 = 0.1088\n",
      "Epoch Loss 160 = 0.1074\n",
      "Epoch Loss 161 = 0.1053\n",
      "Epoch Loss 162 = 0.1068\n",
      "Epoch Loss 163 = 0.1055\n",
      "Epoch Loss 164 = 0.1055\n",
      "Epoch Loss 165 = 0.1061\n",
      "Epoch Loss 166 = 0.1059\n",
      "Epoch Loss 167 = 0.1069\n",
      "Epoch Loss 168 = 0.1084\n",
      "Epoch Loss 169 = 0.1074\n",
      "Epoch Loss 170 = 0.1076\n",
      "Epoch Loss 171 = 0.1070\n",
      "Epoch Loss 172 = 0.1070\n",
      "Epoch Loss 173 = 0.1060\n",
      "Epoch Loss 174 = 0.1082\n",
      "Epoch Loss 175 = 0.1062\n",
      "Epoch Loss 176 = 0.1083\n",
      "Epoch Loss 177 = 0.1068\n",
      "Epoch Loss 178 = 0.1068\n",
      "Epoch Loss 179 = 0.1067\n",
      "Epoch Loss 180 = 0.1066\n",
      "Epoch Loss 181 = 0.1075\n",
      "Epoch Loss 182 = 0.1064\n",
      "Epoch Loss 183 = 0.1072\n",
      "Epoch Loss 184 = 0.1062\n",
      "Epoch Loss 185 = 0.1066\n",
      "Epoch Loss 186 = 0.1062\n",
      "Epoch Loss 187 = 0.1060\n",
      "Epoch Loss 188 = 0.1058\n",
      "Epoch Loss 189 = 0.1058\n",
      "Epoch Loss 190 = 0.1064\n",
      "Epoch Loss 191 = 0.1059\n",
      "Epoch Loss 192 = 0.1061\n",
      "Epoch Loss 193 = 0.1066\n",
      "Epoch Loss 194 = 0.1065\n",
      "Epoch Loss 195 = 0.1058\n",
      "Epoch Loss 196 = 0.1079\n",
      "Epoch Loss 197 = 0.1061\n",
      "Epoch Loss 198 = 0.1063\n",
      "Epoch Loss 199 = 0.1069\n",
      "Epoch Loss 200 = 0.1058\n"
     ]
    }
   ],
   "source": [
    "# Full batch gradient descent: \n",
    "full_gd, full_gd_loss = minibatchGD((X_train, Y_train),(X_test, Y_test), n_batches = 1, epochs = 200)"
   ]
  },
  {
   "cell_type": "code",
   "execution_count": 35,
   "metadata": {},
   "outputs": [
    {
     "name": "stdout",
     "output_type": "stream",
     "text": [
      "Epoch Loss 1 = 0.9124\n",
      "Epoch Loss 2 = 0.5437\n",
      "Epoch Loss 3 = 0.8821\n",
      "Epoch Loss 4 = 0.4267\n",
      "Epoch Loss 5 = 0.1993\n"
     ]
    }
   ],
   "source": [
    "# Stocastic gradient descent: \n",
    "sgd, sgd_loss = minibatchGD((X_train, Y_train),(X_test, Y_test), n_batches = X_train.shape[0], epochs = 5)"
   ]
  },
  {
   "cell_type": "code",
   "execution_count": 42,
   "metadata": {
    "scrolled": true
   },
   "outputs": [
    {
     "name": "stdout",
     "output_type": "stream",
     "text": [
      "Epoch Loss 1 = 3.5748\n",
      "Epoch Loss 2 = 0.7002\n",
      "Epoch Loss 3 = 0.3205\n",
      "Epoch Loss 4 = 0.3865\n",
      "Epoch Loss 5 = 0.1731\n",
      "Epoch Loss 6 = 0.2457\n",
      "Epoch Loss 7 = 0.1818\n",
      "Epoch Loss 8 = 0.1524\n",
      "Epoch Loss 9 = 0.2584\n",
      "Epoch Loss 10 = 0.1617\n",
      "Epoch Loss 11 = 0.1578\n",
      "Epoch Loss 12 = 0.1428\n",
      "Epoch Loss 13 = 0.1380\n",
      "Epoch Loss 14 = 0.1267\n",
      "Epoch Loss 15 = 0.1302\n",
      "Epoch Loss 16 = 0.1127\n",
      "Epoch Loss 17 = 0.1114\n",
      "Epoch Loss 18 = 0.1208\n",
      "Epoch Loss 19 = 0.1166\n",
      "Epoch Loss 20 = 0.2227\n",
      "Epoch Loss 21 = 0.1102\n",
      "Epoch Loss 22 = 0.1101\n",
      "Epoch Loss 23 = 0.1171\n",
      "Epoch Loss 24 = 0.1492\n",
      "Epoch Loss 25 = 0.1126\n",
      "Epoch Loss 26 = 0.1471\n",
      "Epoch Loss 27 = 0.1257\n",
      "Epoch Loss 28 = 0.1119\n",
      "Epoch Loss 29 = 0.1104\n",
      "Epoch Loss 30 = 0.1158\n",
      "Epoch Loss 31 = 0.1120\n",
      "Epoch Loss 32 = 0.1100\n",
      "Epoch Loss 33 = 0.1082\n",
      "Epoch Loss 34 = 0.1206\n",
      "Epoch Loss 35 = 0.1240\n",
      "Epoch Loss 36 = 0.1207\n",
      "Epoch Loss 37 = 0.1140\n",
      "Epoch Loss 38 = 0.1150\n",
      "Epoch Loss 39 = 0.1141\n",
      "Epoch Loss 40 = 0.1148\n",
      "Epoch Loss 41 = 0.1110\n",
      "Epoch Loss 42 = 0.1111\n",
      "Epoch Loss 43 = 0.1138\n",
      "Epoch Loss 44 = 0.1073\n",
      "Epoch Loss 45 = 0.1107\n",
      "Epoch Loss 46 = 0.1146\n",
      "Epoch Loss 47 = 0.1061\n",
      "Epoch Loss 48 = 0.1088\n",
      "Epoch Loss 49 = 0.1125\n",
      "Epoch Loss 50 = 0.1056\n"
     ]
    }
   ],
   "source": [
    "# Mini batch gradient descent:\n",
    "mini_gd, mini_gd_loss = minibatchGD((X_train, Y_train),(X_test, Y_test), n_batches = 10, epochs = 50)"
   ]
  },
  {
   "cell_type": "code",
   "execution_count": 39,
   "metadata": {},
   "outputs": [
    {
     "data": {
      "text/plain": [
       "[<matplotlib.lines.Line2D at 0x11f927e48>]"
      ]
     },
     "execution_count": 39,
     "metadata": {},
     "output_type": "execute_result"
    },
    {
     "data": {
      "image/png": "[encoded data removed]",
      "text/plain": [
       "<Figure size 1008x720 with 1 Axes>"
      ]
     },
     "metadata": {
      "needs_background": "light"
     },
     "output_type": "display_data"
    }
   ],
   "source": [
    "# Let's visualize it: \n",
    "plt.rcParams['figure.figsize'] = (14,10)\n",
    "plt.plot(sgd_loss, label = \"Stochastic\")"
   ]
  },
  {
   "cell_type": "code",
   "execution_count": 43,
   "metadata": {},
   "outputs": [
    {
     "data": {
      "text/plain": [
       "[<matplotlib.lines.Line2D at 0x110714588>]"
      ]
     },
     "execution_count": 43,
     "metadata": {},
     "output_type": "execute_result"
    },
    {
     "data": {
      "image/png": "[encoded data removed]",
      "text/plain": [
       "<Figure size 1008x720 with 1 Axes>"
      ]
     },
     "metadata": {
      "needs_background": "light"
     },
     "output_type": "display_data"
    }
   ],
   "source": [
    "plt.plot(mini_gd_loss, label = \"Mini Batch\")"
   ]
  },
  {
   "cell_type": "code",
   "execution_count": 45,
   "metadata": {},
   "outputs": [
    {
     "data": {
      "text/plain": [
       "[<matplotlib.lines.Line2D at 0x110768c50>]"
      ]
     },
     "execution_count": 45,
     "metadata": {},
     "output_type": "execute_result"
    },
    {
     "data": {
      "image/png": "[encoded data removed]",
      "text/plain": [
       "<Figure size 1008x720 with 1 Axes>"
      ]
     },
     "metadata": {
      "needs_background": "light"
     },
     "output_type": "display_data"
    }
   ],
   "source": [
    "plt.plot(full_gd_loss, label = \"Full Batch\")"
   ]
  },
  {
   "cell_type": "code",
   "execution_count": 47,
   "metadata": {},
   "outputs": [
    {
     "name": "stderr",
     "output_type": "stream",
     "text": [
      "/Library/Frameworks/Python.framework/Versions/3.7/lib/python3.7/site-packages/matplotlib/axes/_base.py:3215: MatplotlibDeprecationWarning: \n",
      "The `xmin` argument was deprecated in Matplotlib 3.0 and will be removed in 3.2. Use `left` instead.\n",
      "  alternative='`left`', obj_type='argument')\n",
      "/Library/Frameworks/Python.framework/Versions/3.7/lib/python3.7/site-packages/matplotlib/axes/_base.py:3221: MatplotlibDeprecationWarning: \n",
      "The `xmax` argument was deprecated in Matplotlib 3.0 and will be removed in 3.2. Use `right` instead.\n",
      "  alternative='`right`', obj_type='argument')\n"
     ]
    },
    {
     "data": {
      "image/png": "[encoded data removed]",
      "text/plain": [
       "<Figure size 1008x720 with 1 Axes>"
      ]
     },
     "metadata": {
      "needs_background": "light"
     },
     "output_type": "display_data"
    }
   ],
   "source": [
    "%matplotlib inline\n",
    "plt.figure(figsize=(14,10))\n",
    "plt.plot(sgd_loss, label=\"Stochastic\")\n",
    "plt.plot(mini_gd_loss, label=\"Mini Batch\")\n",
    "plt.plot(full_gd_loss,label=\"Full Batch\")\n",
    "plt.xlim(xmin=0,xmax=200)\n",
    "plt.legend()\n",
    "plt.show()"
   ]
  },
  {
   "cell_type": "markdown",
   "metadata": {},
   "source": [
    "# Cross-Validation: \n"
   ]
  },
  {
   "cell_type": "code",
   "execution_count": 50,
   "metadata": {},
   "outputs": [
    {
     "data": {
      "text/html": [
       "<div>\n",
       "<style scoped>\n",
       "    .dataframe tbody tr th:only-of-type {\n",
       "        vertical-align: middle;\n",
       "    }\n",
       "\n",
       "    .dataframe tbody tr th {\n",
       "        vertical-align: top;\n",
       "    }\n",
       "\n",
       "    .dataframe thead th {\n",
       "        text-align: right;\n",
       "    }\n",
       "</style>\n",
       "<table border=\"1\" class=\"dataframe\">\n",
       "  <thead>\n",
       "    <tr style=\"text-align: right;\">\n",
       "      <th></th>\n",
       "      <th>sepal length</th>\n",
       "      <th>sepal width</th>\n",
       "      <th>petal length</th>\n",
       "      <th>petal width</th>\n",
       "      <th>class</th>\n",
       "    </tr>\n",
       "  </thead>\n",
       "  <tbody>\n",
       "    <tr>\n",
       "      <th>0</th>\n",
       "      <td>5.1</td>\n",
       "      <td>3.5</td>\n",
       "      <td>1.4</td>\n",
       "      <td>0.2</td>\n",
       "      <td>Iris-setosa</td>\n",
       "    </tr>\n",
       "    <tr>\n",
       "      <th>1</th>\n",
       "      <td>4.9</td>\n",
       "      <td>3.0</td>\n",
       "      <td>1.4</td>\n",
       "      <td>0.2</td>\n",
       "      <td>Iris-setosa</td>\n",
       "    </tr>\n",
       "    <tr>\n",
       "      <th>2</th>\n",
       "      <td>4.7</td>\n",
       "      <td>3.2</td>\n",
       "      <td>1.3</td>\n",
       "      <td>0.2</td>\n",
       "      <td>Iris-setosa</td>\n",
       "    </tr>\n",
       "    <tr>\n",
       "      <th>3</th>\n",
       "      <td>4.6</td>\n",
       "      <td>3.1</td>\n",
       "      <td>1.5</td>\n",
       "      <td>0.2</td>\n",
       "      <td>Iris-setosa</td>\n",
       "    </tr>\n",
       "    <tr>\n",
       "      <th>4</th>\n",
       "      <td>5.0</td>\n",
       "      <td>3.6</td>\n",
       "      <td>1.4</td>\n",
       "      <td>0.2</td>\n",
       "      <td>Iris-setosa</td>\n",
       "    </tr>\n",
       "  </tbody>\n",
       "</table>\n",
       "</div>"
      ],
      "text/plain": [
       "   sepal length  sepal width  petal length  petal width        class\n",
       "0           5.1          3.5           1.4          0.2  Iris-setosa\n",
       "1           4.9          3.0           1.4          0.2  Iris-setosa\n",
       "2           4.7          3.2           1.3          0.2  Iris-setosa\n",
       "3           4.6          3.1           1.5          0.2  Iris-setosa\n",
       "4           5.0          3.6           1.4          0.2  Iris-setosa"
      ]
     },
     "execution_count": 50,
     "metadata": {},
     "output_type": "execute_result"
    }
   ],
   "source": [
    "iris = pd.read_csv(\"https://archive.ics.uci.edu/ml/machine-learning-databases/iris/iris.data\", names=[\"sepal length\",\"sepal width\",\"petal length\",\"petal width\",\"class\"])\n",
    "iris.head()"
   ]
  },
  {
   "cell_type": "code",
   "execution_count": 52,
   "metadata": {},
   "outputs": [],
   "source": [
    "X = iris.drop(\"class\",axis=1).values\n",
    "Y = iris[\"class\"].values\n",
    "X_train, X_test, Y_train, Y_test = train_test_split(X, Y, test_size=0.3, random_state=1)"
   ]
  },
  {
   "cell_type": "markdown",
   "metadata": {},
   "source": [
    "__K-folds Cross Validation method__"
   ]
  },
  {
   "cell_type": "code",
   "execution_count": 53,
   "metadata": {
    "scrolled": true
   },
   "outputs": [
    {
     "name": "stdout",
     "output_type": "stream",
     "text": [
      "Fold 0: Accuracy=0.91\n",
      "Fold 1: Accuracy=0.91\n",
      "Fold 2: Accuracy=0.91\n",
      "Fold 3: Accuracy=0.91\n",
      "Fold 4: Accuracy=1.00\n",
      "Fold 5: Accuracy=1.00\n",
      "Fold 6: Accuracy=0.90\n",
      "Fold 7: Accuracy=1.00\n",
      "Fold 8: Accuracy=0.80\n",
      "Fold 9: Accuracy=0.90\n"
     ]
    },
    {
     "name": "stderr",
     "output_type": "stream",
     "text": [
      "/Library/Frameworks/Python.framework/Versions/3.7/lib/python3.7/site-packages/sklearn/linear_model/logistic.py:433: FutureWarning: Default solver will be changed to 'lbfgs' in 0.22. Specify a solver to silence this warning.\n",
      "  FutureWarning)\n",
      "/Library/Frameworks/Python.framework/Versions/3.7/lib/python3.7/site-packages/sklearn/linear_model/logistic.py:460: FutureWarning: Default multi_class will be changed to 'auto' in 0.22. Specify the multi_class option to silence this warning.\n",
      "  \"this warning.\", FutureWarning)\n",
      "/Library/Frameworks/Python.framework/Versions/3.7/lib/python3.7/site-packages/sklearn/linear_model/logistic.py:433: FutureWarning: Default solver will be changed to 'lbfgs' in 0.22. Specify a solver to silence this warning.\n",
      "  FutureWarning)\n",
      "/Library/Frameworks/Python.framework/Versions/3.7/lib/python3.7/site-packages/sklearn/linear_model/logistic.py:460: FutureWarning: Default multi_class will be changed to 'auto' in 0.22. Specify the multi_class option to silence this warning.\n",
      "  \"this warning.\", FutureWarning)\n",
      "/Library/Frameworks/Python.framework/Versions/3.7/lib/python3.7/site-packages/sklearn/linear_model/logistic.py:433: FutureWarning: Default solver will be changed to 'lbfgs' in 0.22. Specify a solver to silence this warning.\n",
      "  FutureWarning)\n",
      "/Library/Frameworks/Python.framework/Versions/3.7/lib/python3.7/site-packages/sklearn/linear_model/logistic.py:460: FutureWarning: Default multi_class will be changed to 'auto' in 0.22. Specify the multi_class option to silence this warning.\n",
      "  \"this warning.\", FutureWarning)\n",
      "/Library/Frameworks/Python.framework/Versions/3.7/lib/python3.7/site-packages/sklearn/linear_model/logistic.py:433: FutureWarning: Default solver will be changed to 'lbfgs' in 0.22. Specify a solver to silence this warning.\n",
      "  FutureWarning)\n",
      "/Library/Frameworks/Python.framework/Versions/3.7/lib/python3.7/site-packages/sklearn/linear_model/logistic.py:460: FutureWarning: Default multi_class will be changed to 'auto' in 0.22. Specify the multi_class option to silence this warning.\n",
      "  \"this warning.\", FutureWarning)\n",
      "/Library/Frameworks/Python.framework/Versions/3.7/lib/python3.7/site-packages/sklearn/linear_model/logistic.py:433: FutureWarning: Default solver will be changed to 'lbfgs' in 0.22. Specify a solver to silence this warning.\n",
      "  FutureWarning)\n",
      "/Library/Frameworks/Python.framework/Versions/3.7/lib/python3.7/site-packages/sklearn/linear_model/logistic.py:460: FutureWarning: Default multi_class will be changed to 'auto' in 0.22. Specify the multi_class option to silence this warning.\n",
      "  \"this warning.\", FutureWarning)\n",
      "/Library/Frameworks/Python.framework/Versions/3.7/lib/python3.7/site-packages/sklearn/linear_model/logistic.py:433: FutureWarning: Default solver will be changed to 'lbfgs' in 0.22. Specify a solver to silence this warning.\n",
      "  FutureWarning)\n",
      "/Library/Frameworks/Python.framework/Versions/3.7/lib/python3.7/site-packages/sklearn/linear_model/logistic.py:460: FutureWarning: Default multi_class will be changed to 'auto' in 0.22. Specify the multi_class option to silence this warning.\n",
      "  \"this warning.\", FutureWarning)\n",
      "/Library/Frameworks/Python.framework/Versions/3.7/lib/python3.7/site-packages/sklearn/linear_model/logistic.py:433: FutureWarning: Default solver will be changed to 'lbfgs' in 0.22. Specify a solver to silence this warning.\n",
      "  FutureWarning)\n",
      "/Library/Frameworks/Python.framework/Versions/3.7/lib/python3.7/site-packages/sklearn/linear_model/logistic.py:460: FutureWarning: Default multi_class will be changed to 'auto' in 0.22. Specify the multi_class option to silence this warning.\n",
      "  \"this warning.\", FutureWarning)\n",
      "/Library/Frameworks/Python.framework/Versions/3.7/lib/python3.7/site-packages/sklearn/linear_model/logistic.py:433: FutureWarning: Default solver will be changed to 'lbfgs' in 0.22. Specify a solver to silence this warning.\n",
      "  FutureWarning)\n",
      "/Library/Frameworks/Python.framework/Versions/3.7/lib/python3.7/site-packages/sklearn/linear_model/logistic.py:460: FutureWarning: Default multi_class will be changed to 'auto' in 0.22. Specify the multi_class option to silence this warning.\n",
      "  \"this warning.\", FutureWarning)\n",
      "/Library/Frameworks/Python.framework/Versions/3.7/lib/python3.7/site-packages/sklearn/linear_model/logistic.py:433: FutureWarning: Default solver will be changed to 'lbfgs' in 0.22. Specify a solver to silence this warning.\n",
      "  FutureWarning)\n",
      "/Library/Frameworks/Python.framework/Versions/3.7/lib/python3.7/site-packages/sklearn/linear_model/logistic.py:460: FutureWarning: Default multi_class will be changed to 'auto' in 0.22. Specify the multi_class option to silence this warning.\n",
      "  \"this warning.\", FutureWarning)\n",
      "/Library/Frameworks/Python.framework/Versions/3.7/lib/python3.7/site-packages/sklearn/linear_model/logistic.py:433: FutureWarning: Default solver will be changed to 'lbfgs' in 0.22. Specify a solver to silence this warning.\n",
      "  FutureWarning)\n",
      "/Library/Frameworks/Python.framework/Versions/3.7/lib/python3.7/site-packages/sklearn/linear_model/logistic.py:460: FutureWarning: Default multi_class will be changed to 'auto' in 0.22. Specify the multi_class option to silence this warning.\n",
      "  \"this warning.\", FutureWarning)\n"
     ]
    }
   ],
   "source": [
    "from sklearn.model_selection import KFold\n",
    "\n",
    "lr = LogisticRegression()\n",
    "\n",
    "kfold = KFold(n_splits=10, random_state=1)\n",
    "scores = []\n",
    "              \n",
    "for k, (train, test) in enumerate(kfold.split(X_train)):\n",
    "    lr.fit(X_train[train], Y_train[train])\n",
    "    score = lr.score(X_train[test],Y_train[test])\n",
    "    scores.append(score)\n",
    "    print(\"Fold %d: Accuracy=%.2f\" %(k, score))"
   ]
  },
  {
   "cell_type": "code",
   "execution_count": 55,
   "metadata": {},
   "outputs": [
    {
     "name": "stdout",
     "output_type": "stream",
     "text": [
      "\n",
      "Validation Accuracy = 0.92\n"
     ]
    }
   ],
   "source": [
    "#We can compute the overall accuracy like the mean of each score:\n",
    "accuracy = np.array(scores).mean()\n",
    "print(\"\\nValidation Accuracy = %.2f\" % accuracy)"
   ]
  },
  {
   "cell_type": "markdown",
   "metadata": {},
   "source": [
    "With this approach classes could be unbalanced, so we can compute the __StratifiedKFold__ for avoiding this problem "
   ]
  },
  {
   "cell_type": "code",
   "execution_count": 56,
   "metadata": {
    "scrolled": true
   },
   "outputs": [
    {
     "name": "stdout",
     "output_type": "stream",
     "text": [
      "Fold 0: Accuracy=0.83\n",
      "Fold 1: Accuracy=0.92\n",
      "Fold 2: Accuracy=0.91\n",
      "Fold 3: Accuracy=1.00\n",
      "Fold 4: Accuracy=1.00\n",
      "Fold 5: Accuracy=0.91\n",
      "Fold 6: Accuracy=1.00\n",
      "Fold 7: Accuracy=0.89\n",
      "Fold 8: Accuracy=1.00\n",
      "Fold 9: Accuracy=1.00\n",
      "\n",
      "Validation Accuracy = 0.95\n"
     ]
    },
    {
     "name": "stderr",
     "output_type": "stream",
     "text": [
      "/Library/Frameworks/Python.framework/Versions/3.7/lib/python3.7/site-packages/sklearn/linear_model/logistic.py:433: FutureWarning: Default solver will be changed to 'lbfgs' in 0.22. Specify a solver to silence this warning.\n",
      "  FutureWarning)\n",
      "/Library/Frameworks/Python.framework/Versions/3.7/lib/python3.7/site-packages/sklearn/linear_model/logistic.py:460: FutureWarning: Default multi_class will be changed to 'auto' in 0.22. Specify the multi_class option to silence this warning.\n",
      "  \"this warning.\", FutureWarning)\n",
      "/Library/Frameworks/Python.framework/Versions/3.7/lib/python3.7/site-packages/sklearn/linear_model/logistic.py:433: FutureWarning: Default solver will be changed to 'lbfgs' in 0.22. Specify a solver to silence this warning.\n",
      "  FutureWarning)\n",
      "/Library/Frameworks/Python.framework/Versions/3.7/lib/python3.7/site-packages/sklearn/linear_model/logistic.py:460: FutureWarning: Default multi_class will be changed to 'auto' in 0.22. Specify the multi_class option to silence this warning.\n",
      "  \"this warning.\", FutureWarning)\n",
      "/Library/Frameworks/Python.framework/Versions/3.7/lib/python3.7/site-packages/sklearn/linear_model/logistic.py:433: FutureWarning: Default solver will be changed to 'lbfgs' in 0.22. Specify a solver to silence this warning.\n",
      "  FutureWarning)\n",
      "/Library/Frameworks/Python.framework/Versions/3.7/lib/python3.7/site-packages/sklearn/linear_model/logistic.py:460: FutureWarning: Default multi_class will be changed to 'auto' in 0.22. Specify the multi_class option to silence this warning.\n",
      "  \"this warning.\", FutureWarning)\n",
      "/Library/Frameworks/Python.framework/Versions/3.7/lib/python3.7/site-packages/sklearn/linear_model/logistic.py:433: FutureWarning: Default solver will be changed to 'lbfgs' in 0.22. Specify a solver to silence this warning.\n",
      "  FutureWarning)\n",
      "/Library/Frameworks/Python.framework/Versions/3.7/lib/python3.7/site-packages/sklearn/linear_model/logistic.py:460: FutureWarning: Default multi_class will be changed to 'auto' in 0.22. Specify the multi_class option to silence this warning.\n",
      "  \"this warning.\", FutureWarning)\n",
      "/Library/Frameworks/Python.framework/Versions/3.7/lib/python3.7/site-packages/sklearn/linear_model/logistic.py:433: FutureWarning: Default solver will be changed to 'lbfgs' in 0.22. Specify a solver to silence this warning.\n",
      "  FutureWarning)\n",
      "/Library/Frameworks/Python.framework/Versions/3.7/lib/python3.7/site-packages/sklearn/linear_model/logistic.py:460: FutureWarning: Default multi_class will be changed to 'auto' in 0.22. Specify the multi_class option to silence this warning.\n",
      "  \"this warning.\", FutureWarning)\n",
      "/Library/Frameworks/Python.framework/Versions/3.7/lib/python3.7/site-packages/sklearn/linear_model/logistic.py:433: FutureWarning: Default solver will be changed to 'lbfgs' in 0.22. Specify a solver to silence this warning.\n",
      "  FutureWarning)\n",
      "/Library/Frameworks/Python.framework/Versions/3.7/lib/python3.7/site-packages/sklearn/linear_model/logistic.py:460: FutureWarning: Default multi_class will be changed to 'auto' in 0.22. Specify the multi_class option to silence this warning.\n",
      "  \"this warning.\", FutureWarning)\n",
      "/Library/Frameworks/Python.framework/Versions/3.7/lib/python3.7/site-packages/sklearn/linear_model/logistic.py:433: FutureWarning: Default solver will be changed to 'lbfgs' in 0.22. Specify a solver to silence this warning.\n",
      "  FutureWarning)\n",
      "/Library/Frameworks/Python.framework/Versions/3.7/lib/python3.7/site-packages/sklearn/linear_model/logistic.py:460: FutureWarning: Default multi_class will be changed to 'auto' in 0.22. Specify the multi_class option to silence this warning.\n",
      "  \"this warning.\", FutureWarning)\n",
      "/Library/Frameworks/Python.framework/Versions/3.7/lib/python3.7/site-packages/sklearn/linear_model/logistic.py:433: FutureWarning: Default solver will be changed to 'lbfgs' in 0.22. Specify a solver to silence this warning.\n",
      "  FutureWarning)\n",
      "/Library/Frameworks/Python.framework/Versions/3.7/lib/python3.7/site-packages/sklearn/linear_model/logistic.py:460: FutureWarning: Default multi_class will be changed to 'auto' in 0.22. Specify the multi_class option to silence this warning.\n",
      "  \"this warning.\", FutureWarning)\n",
      "/Library/Frameworks/Python.framework/Versions/3.7/lib/python3.7/site-packages/sklearn/linear_model/logistic.py:433: FutureWarning: Default solver will be changed to 'lbfgs' in 0.22. Specify a solver to silence this warning.\n",
      "  FutureWarning)\n",
      "/Library/Frameworks/Python.framework/Versions/3.7/lib/python3.7/site-packages/sklearn/linear_model/logistic.py:460: FutureWarning: Default multi_class will be changed to 'auto' in 0.22. Specify the multi_class option to silence this warning.\n",
      "  \"this warning.\", FutureWarning)\n",
      "/Library/Frameworks/Python.framework/Versions/3.7/lib/python3.7/site-packages/sklearn/linear_model/logistic.py:433: FutureWarning: Default solver will be changed to 'lbfgs' in 0.22. Specify a solver to silence this warning.\n",
      "  FutureWarning)\n",
      "/Library/Frameworks/Python.framework/Versions/3.7/lib/python3.7/site-packages/sklearn/linear_model/logistic.py:460: FutureWarning: Default multi_class will be changed to 'auto' in 0.22. Specify the multi_class option to silence this warning.\n",
      "  \"this warning.\", FutureWarning)\n"
     ]
    }
   ],
   "source": [
    "from sklearn.model_selection import StratifiedKFold\n",
    "\n",
    "lr = LogisticRegression()\n",
    "\n",
    "kfold = StratifiedKFold(n_splits=10, random_state=1)\n",
    "scores = []\n",
    "              \n",
    "for k, (train, test) in enumerate(kfold.split(X_train,Y_train)):\n",
    "    lr.fit(X_train[train], Y_train[train])\n",
    "    score = lr.score(X_train[test],Y_train[test])\n",
    "    scores.append(score)\n",
    "    print(\"Fold %d: Accuracy=%.2f\" %(k, score))\n",
    "    \n",
    "print(\"\\nValidation Accuracy = %.2f\" % (np.array(scores).mean()))"
   ]
  },
  {
   "cell_type": "markdown",
   "metadata": {},
   "source": [
    "We have another option for avoiding the unbalanced classes inside the k-folds:"
   ]
  },
  {
   "cell_type": "code",
   "execution_count": 59,
   "metadata": {
    "scrolled": true
   },
   "outputs": [
    {
     "name": "stdout",
     "output_type": "stream",
     "text": [
      "Fold 1 score=0.8333\n",
      "Fold 2 score=0.9167\n",
      "Fold 3 score=0.9091\n",
      "Fold 4 score=1.0000\n",
      "Fold 5 score=1.0000\n",
      "Fold 6 score=0.9091\n",
      "Fold 7 score=1.0000\n",
      "Fold 8 score=0.8889\n",
      "Fold 9 score=1.0000\n",
      "Fold 10 score=1.0000\n",
      "\n",
      "Validation Accuracy = 0.95\n"
     ]
    },
    {
     "name": "stderr",
     "output_type": "stream",
     "text": [
      "/Library/Frameworks/Python.framework/Versions/3.7/lib/python3.7/site-packages/sklearn/linear_model/logistic.py:433: FutureWarning: Default solver will be changed to 'lbfgs' in 0.22. Specify a solver to silence this warning.\n",
      "  FutureWarning)\n",
      "/Library/Frameworks/Python.framework/Versions/3.7/lib/python3.7/site-packages/sklearn/linear_model/logistic.py:460: FutureWarning: Default multi_class will be changed to 'auto' in 0.22. Specify the multi_class option to silence this warning.\n",
      "  \"this warning.\", FutureWarning)\n",
      "/Library/Frameworks/Python.framework/Versions/3.7/lib/python3.7/site-packages/sklearn/linear_model/logistic.py:433: FutureWarning: Default solver will be changed to 'lbfgs' in 0.22. Specify a solver to silence this warning.\n",
      "  FutureWarning)\n",
      "/Library/Frameworks/Python.framework/Versions/3.7/lib/python3.7/site-packages/sklearn/linear_model/logistic.py:460: FutureWarning: Default multi_class will be changed to 'auto' in 0.22. Specify the multi_class option to silence this warning.\n",
      "  \"this warning.\", FutureWarning)\n",
      "/Library/Frameworks/Python.framework/Versions/3.7/lib/python3.7/site-packages/sklearn/linear_model/logistic.py:433: FutureWarning: Default solver will be changed to 'lbfgs' in 0.22. Specify a solver to silence this warning.\n",
      "  FutureWarning)\n",
      "/Library/Frameworks/Python.framework/Versions/3.7/lib/python3.7/site-packages/sklearn/linear_model/logistic.py:460: FutureWarning: Default multi_class will be changed to 'auto' in 0.22. Specify the multi_class option to silence this warning.\n",
      "  \"this warning.\", FutureWarning)\n",
      "/Library/Frameworks/Python.framework/Versions/3.7/lib/python3.7/site-packages/sklearn/linear_model/logistic.py:433: FutureWarning: Default solver will be changed to 'lbfgs' in 0.22. Specify a solver to silence this warning.\n",
      "  FutureWarning)\n",
      "/Library/Frameworks/Python.framework/Versions/3.7/lib/python3.7/site-packages/sklearn/linear_model/logistic.py:460: FutureWarning: Default multi_class will be changed to 'auto' in 0.22. Specify the multi_class option to silence this warning.\n",
      "  \"this warning.\", FutureWarning)\n",
      "/Library/Frameworks/Python.framework/Versions/3.7/lib/python3.7/site-packages/sklearn/linear_model/logistic.py:433: FutureWarning: Default solver will be changed to 'lbfgs' in 0.22. Specify a solver to silence this warning.\n",
      "  FutureWarning)\n",
      "/Library/Frameworks/Python.framework/Versions/3.7/lib/python3.7/site-packages/sklearn/linear_model/logistic.py:460: FutureWarning: Default multi_class will be changed to 'auto' in 0.22. Specify the multi_class option to silence this warning.\n",
      "  \"this warning.\", FutureWarning)\n",
      "/Library/Frameworks/Python.framework/Versions/3.7/lib/python3.7/site-packages/sklearn/linear_model/logistic.py:433: FutureWarning: Default solver will be changed to 'lbfgs' in 0.22. Specify a solver to silence this warning.\n",
      "  FutureWarning)\n",
      "/Library/Frameworks/Python.framework/Versions/3.7/lib/python3.7/site-packages/sklearn/linear_model/logistic.py:460: FutureWarning: Default multi_class will be changed to 'auto' in 0.22. Specify the multi_class option to silence this warning.\n",
      "  \"this warning.\", FutureWarning)\n",
      "/Library/Frameworks/Python.framework/Versions/3.7/lib/python3.7/site-packages/sklearn/linear_model/logistic.py:433: FutureWarning: Default solver will be changed to 'lbfgs' in 0.22. Specify a solver to silence this warning.\n",
      "  FutureWarning)\n",
      "/Library/Frameworks/Python.framework/Versions/3.7/lib/python3.7/site-packages/sklearn/linear_model/logistic.py:460: FutureWarning: Default multi_class will be changed to 'auto' in 0.22. Specify the multi_class option to silence this warning.\n",
      "  \"this warning.\", FutureWarning)\n",
      "/Library/Frameworks/Python.framework/Versions/3.7/lib/python3.7/site-packages/sklearn/linear_model/logistic.py:433: FutureWarning: Default solver will be changed to 'lbfgs' in 0.22. Specify a solver to silence this warning.\n",
      "  FutureWarning)\n",
      "/Library/Frameworks/Python.framework/Versions/3.7/lib/python3.7/site-packages/sklearn/linear_model/logistic.py:460: FutureWarning: Default multi_class will be changed to 'auto' in 0.22. Specify the multi_class option to silence this warning.\n",
      "  \"this warning.\", FutureWarning)\n",
      "/Library/Frameworks/Python.framework/Versions/3.7/lib/python3.7/site-packages/sklearn/linear_model/logistic.py:433: FutureWarning: Default solver will be changed to 'lbfgs' in 0.22. Specify a solver to silence this warning.\n",
      "  FutureWarning)\n",
      "/Library/Frameworks/Python.framework/Versions/3.7/lib/python3.7/site-packages/sklearn/linear_model/logistic.py:460: FutureWarning: Default multi_class will be changed to 'auto' in 0.22. Specify the multi_class option to silence this warning.\n",
      "  \"this warning.\", FutureWarning)\n",
      "/Library/Frameworks/Python.framework/Versions/3.7/lib/python3.7/site-packages/sklearn/linear_model/logistic.py:433: FutureWarning: Default solver will be changed to 'lbfgs' in 0.22. Specify a solver to silence this warning.\n",
      "  FutureWarning)\n",
      "/Library/Frameworks/Python.framework/Versions/3.7/lib/python3.7/site-packages/sklearn/linear_model/logistic.py:460: FutureWarning: Default multi_class will be changed to 'auto' in 0.22. Specify the multi_class option to silence this warning.\n",
      "  \"this warning.\", FutureWarning)\n"
     ]
    },
    {
     "data": {
      "text/plain": [
       "0.9457070707070707"
      ]
     },
     "execution_count": 59,
     "metadata": {},
     "output_type": "execute_result"
    }
   ],
   "source": [
    "from sklearn.model_selection import cross_val_score\n",
    "\n",
    "lr = LogisticRegression()\n",
    "scores = cross_val_score(lr, X_train, Y_train, cv=10)\n",
    "\n",
    "for fold,score in enumerate(scores):\n",
    "    print(\"Fold %d score=%.4f\" % (fold+1,score))\n",
    "    \n",
    "print(\"\\nValidation Accuracy = %.2f\" % scores.mean())\n",
    "scores.mean()"
   ]
  },
  {
   "cell_type": "code",
   "execution_count": 58,
   "metadata": {},
   "outputs": [
    {
     "name": "stderr",
     "output_type": "stream",
     "text": [
      "/Library/Frameworks/Python.framework/Versions/3.7/lib/python3.7/site-packages/sklearn/linear_model/logistic.py:433: FutureWarning: Default solver will be changed to 'lbfgs' in 0.22. Specify a solver to silence this warning.\n",
      "  FutureWarning)\n",
      "/Library/Frameworks/Python.framework/Versions/3.7/lib/python3.7/site-packages/sklearn/linear_model/logistic.py:460: FutureWarning: Default multi_class will be changed to 'auto' in 0.22. Specify the multi_class option to silence this warning.\n",
      "  \"this warning.\", FutureWarning)\n"
     ]
    },
    {
     "data": {
      "text/plain": [
       "LogisticRegression(C=1.0, class_weight=None, dual=False, fit_intercept=True,\n",
       "          intercept_scaling=1, max_iter=100, multi_class='warn',\n",
       "          n_jobs=None, penalty='l2', random_state=None, solver='warn',\n",
       "          tol=0.0001, verbose=0, warm_start=False)"
      ]
     },
     "execution_count": 58,
     "metadata": {},
     "output_type": "execute_result"
    }
   ],
   "source": [
    "#At the end we need to test all the training set: \n",
    "lr.fit(X_train, Y_train) #this is the model to be tested"
   ]
  },
  {
   "cell_type": "markdown",
   "metadata": {},
   "source": [
    "# How to find the right combination of hyperparameters?"
   ]
  },
  {
   "cell_type": "markdown",
   "metadata": {},
   "source": [
    "# _Grid search:_\n",
    "\n",
    "• Different values are defined for different hyperparameters and all combinations are tested (one model for each hyparameter, take out the best).\n",
    "\n",
    "• Computational power  --> very high!"
   ]
  },
  {
   "cell_type": "code",
   "execution_count": 60,
   "metadata": {},
   "outputs": [
    {
     "data": {
      "text/html": [
       "<div>\n",
       "<style scoped>\n",
       "    .dataframe tbody tr th:only-of-type {\n",
       "        vertical-align: middle;\n",
       "    }\n",
       "\n",
       "    .dataframe tbody tr th {\n",
       "        vertical-align: top;\n",
       "    }\n",
       "\n",
       "    .dataframe thead th {\n",
       "        text-align: right;\n",
       "    }\n",
       "</style>\n",
       "<table border=\"1\" class=\"dataframe\">\n",
       "  <thead>\n",
       "    <tr style=\"text-align: right;\">\n",
       "      <th></th>\n",
       "      <th>sepal length</th>\n",
       "      <th>sepal width</th>\n",
       "      <th>petal length</th>\n",
       "      <th>petal width</th>\n",
       "      <th>class</th>\n",
       "    </tr>\n",
       "  </thead>\n",
       "  <tbody>\n",
       "    <tr>\n",
       "      <th>0</th>\n",
       "      <td>5.1</td>\n",
       "      <td>3.5</td>\n",
       "      <td>1.4</td>\n",
       "      <td>0.2</td>\n",
       "      <td>Iris-setosa</td>\n",
       "    </tr>\n",
       "    <tr>\n",
       "      <th>1</th>\n",
       "      <td>4.9</td>\n",
       "      <td>3.0</td>\n",
       "      <td>1.4</td>\n",
       "      <td>0.2</td>\n",
       "      <td>Iris-setosa</td>\n",
       "    </tr>\n",
       "    <tr>\n",
       "      <th>2</th>\n",
       "      <td>4.7</td>\n",
       "      <td>3.2</td>\n",
       "      <td>1.3</td>\n",
       "      <td>0.2</td>\n",
       "      <td>Iris-setosa</td>\n",
       "    </tr>\n",
       "    <tr>\n",
       "      <th>3</th>\n",
       "      <td>4.6</td>\n",
       "      <td>3.1</td>\n",
       "      <td>1.5</td>\n",
       "      <td>0.2</td>\n",
       "      <td>Iris-setosa</td>\n",
       "    </tr>\n",
       "    <tr>\n",
       "      <th>4</th>\n",
       "      <td>5.0</td>\n",
       "      <td>3.6</td>\n",
       "      <td>1.4</td>\n",
       "      <td>0.2</td>\n",
       "      <td>Iris-setosa</td>\n",
       "    </tr>\n",
       "  </tbody>\n",
       "</table>\n",
       "</div>"
      ],
      "text/plain": [
       "   sepal length  sepal width  petal length  petal width        class\n",
       "0           5.1          3.5           1.4          0.2  Iris-setosa\n",
       "1           4.9          3.0           1.4          0.2  Iris-setosa\n",
       "2           4.7          3.2           1.3          0.2  Iris-setosa\n",
       "3           4.6          3.1           1.5          0.2  Iris-setosa\n",
       "4           5.0          3.6           1.4          0.2  Iris-setosa"
      ]
     },
     "execution_count": 60,
     "metadata": {},
     "output_type": "execute_result"
    }
   ],
   "source": [
    "iris = pd.read_csv(\"https://archive.ics.uci.edu/ml/machine-learning-databases/iris/iris.data\", names=[\"sepal length\",\"sepal width\",\"petal length\",\"petal width\",\"class\"])\n",
    "iris.head()"
   ]
  },
  {
   "cell_type": "code",
   "execution_count": 61,
   "metadata": {},
   "outputs": [],
   "source": [
    "X = iris.drop(\"class\",axis=1).values\n",
    "Y = iris[\"class\"].values\n",
    "\n",
    "X_train, X_test, Y_train, Y_test = train_test_split(X, Y, test_size=0.3, random_state=0)"
   ]
  },
  {
   "cell_type": "code",
   "execution_count": 71,
   "metadata": {},
   "outputs": [
    {
     "name": "stdout",
     "output_type": "stream",
     "text": [
      "CPU times: user 763 ms, sys: 7.36 ms, total: 770 ms\n",
      "Wall time: 782 ms\n"
     ]
    },
    {
     "name": "stderr",
     "output_type": "stream",
     "text": [
      "/Library/Frameworks/Python.framework/Versions/3.7/lib/python3.7/site-packages/sklearn/model_selection/_search.py:841: DeprecationWarning: The default of the `iid` parameter will change from True to False in version 0.22 and will be removed in 0.24. This will change numeric results when test-set sizes are unequal.\n",
      "  DeprecationWarning)\n"
     ]
    }
   ],
   "source": [
    "%%time\n",
    "from sklearn.svm import SVC\n",
    "from sklearn.model_selection import GridSearchCV #it's implement with CrossValidation\n",
    "\n",
    "svc = SVC()\n",
    "\n",
    "params = {\"kernel\": [\"linear\",\"rbf\",\"sigmoid\",\"poly\"],\n",
    "             \"C\": [1, 10, 100, 1000], # C = 1/gamma\n",
    "             \"gamma\": [0.1,1,\"auto\"]} #auto 1/n where n = number of features\n",
    "\n",
    "gs = GridSearchCV(svc, params, cv=10) #in cv specifichiamo il numero di folds per la cross-validation\n",
    "\n",
    "gs.fit(X_train, Y_train)"
   ]
  },
  {
   "cell_type": "code",
   "execution_count": 72,
   "metadata": {},
   "outputs": [
    {
     "data": {
      "text/plain": [
       "{'C': 1, 'gamma': 0.1, 'kernel': 'linear'}"
      ]
     },
     "execution_count": 72,
     "metadata": {},
     "output_type": "execute_result"
    }
   ],
   "source": [
    "gs.best_params_"
   ]
  },
  {
   "cell_type": "code",
   "execution_count": 73,
   "metadata": {},
   "outputs": [
    {
     "data": {
      "text/plain": [
       "0.9809523809523809"
      ]
     },
     "execution_count": 73,
     "metadata": {},
     "output_type": "execute_result"
    }
   ],
   "source": [
    "gs.best_score_"
   ]
  },
  {
   "cell_type": "code",
   "execution_count": 74,
   "metadata": {},
   "outputs": [],
   "source": [
    "svc = gs.best_estimator_ #this is the best model"
   ]
  },
  {
   "cell_type": "code",
   "execution_count": 75,
   "metadata": {},
   "outputs": [
    {
     "data": {
      "text/plain": [
       "0.9777777777777777"
      ]
     },
     "execution_count": 75,
     "metadata": {},
     "output_type": "execute_result"
    }
   ],
   "source": [
    "svc.score(X_test, Y_test)"
   ]
  },
  {
   "cell_type": "markdown",
   "metadata": {},
   "source": [
    "# Random search: \n",
    "• When the hyparameters have different relevance:\n",
    "which searches for the optimal values of the hyperparameters searching them at random in a distribution of values defined by us.\n",
    "Experimental evidence has shown that this approach leads to better results and faster than Grid Search. We can implement Random Search using the RandomizedSearchCV class of scikit-learn."
   ]
  },
  {
   "cell_type": "code",
   "execution_count": 76,
   "metadata": {},
   "outputs": [],
   "source": [
    "from sklearn.model_selection import RandomizedSearchCV\n",
    "\n",
    "svc = SVC()\n",
    "rs = RandomizedSearchCV(svc, params, cv = 10)"
   ]
  },
  {
   "cell_type": "code",
   "execution_count": 77,
   "metadata": {},
   "outputs": [
    {
     "name": "stderr",
     "output_type": "stream",
     "text": [
      "/Library/Frameworks/Python.framework/Versions/3.7/lib/python3.7/site-packages/sklearn/model_selection/_search.py:841: DeprecationWarning: The default of the `iid` parameter will change from True to False in version 0.22 and will be removed in 0.24. This will change numeric results when test-set sizes are unequal.\n",
      "  DeprecationWarning)\n"
     ]
    },
    {
     "data": {
      "text/plain": [
       "RandomizedSearchCV(cv=10, error_score='raise-deprecating',\n",
       "          estimator=SVC(C=1.0, cache_size=200, class_weight=None, coef0=0.0,\n",
       "  decision_function_shape='ovr', degree=3, gamma='auto_deprecated',\n",
       "  kernel='rbf', max_iter=-1, probability=False, random_state=None,\n",
       "  shrinking=True, tol=0.001, verbose=False),\n",
       "          fit_params=None, iid='warn', n_iter=10, n_jobs=None,\n",
       "          param_distributions={'kernel': ['linear', 'rbf', 'sigmoid', 'poly'], 'C': [1, 10, 100, 1000], 'gamma': [0.1, 1, 'auto']},\n",
       "          pre_dispatch='2*n_jobs', random_state=None, refit=True,\n",
       "          return_train_score='warn', scoring=None, verbose=0)"
      ]
     },
     "execution_count": 77,
     "metadata": {},
     "output_type": "execute_result"
    }
   ],
   "source": [
    "rs.fit(X_train, Y_train)"
   ]
  },
  {
   "cell_type": "code",
   "execution_count": 79,
   "metadata": {},
   "outputs": [
    {
     "data": {
      "text/plain": [
       "0.9714285714285714"
      ]
     },
     "execution_count": 79,
     "metadata": {},
     "output_type": "execute_result"
    }
   ],
   "source": [
    "rs.best_score_"
   ]
  },
  {
   "cell_type": "code",
   "execution_count": 80,
   "metadata": {},
   "outputs": [
    {
     "data": {
      "text/plain": [
       "{'kernel': 'rbf', 'gamma': 'auto', 'C': 1}"
      ]
     },
     "execution_count": 80,
     "metadata": {},
     "output_type": "execute_result"
    }
   ],
   "source": [
    "rs.best_params_"
   ]
  },
  {
   "cell_type": "code",
   "execution_count": null,
   "metadata": {},
   "outputs": [],
   "source": []
  }
 ],
 "metadata": {
  "kernelspec": {
   "display_name": "Python 3",
   "language": "python",
   "name": "python3"
  },
  "language_info": {
   "codemirror_mode": {
    "name": "ipython",
    "version": 3
   },
   "file_extension": ".py",
   "mimetype": "text/x-python",
   "name": "python",
   "nbconvert_exporter": "python",
   "pygments_lexer": "ipython3",
   "version": "3.7.3"
  }
 },
 "nbformat": 4,
 "nbformat_minor": 2
}
